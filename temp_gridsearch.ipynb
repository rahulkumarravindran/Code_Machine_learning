{
 "cells": [
  {
   "cell_type": "code",
   "execution_count": 16,
   "metadata": {},
   "outputs": [],
   "source": [
    "from sklearn.model_selection import train_test_split,GridSearchCV\r\n",
    "from sklearn.svm import SVC\r\n",
    "import pandas as pd\r\n",
    "import numpy as np\r\n",
    "from sklearn.preprocessing import StandardScaler,OneHotEncoder\r\n"
   ]
  },
  {
   "cell_type": "code",
   "execution_count": 17,
   "metadata": {},
   "outputs": [
    {
     "name": "stdout",
     "output_type": "stream",
     "text": [
      "(8501, 7)\n",
      "7\n",
      "(8501, 6)\n"
     ]
    }
   ],
   "source": [
    "#data=pd.read_csv(r\"D:\\Windsor\\Fourth semester\\Applied Machine learning\\Project\\Datasets\\Datasets\\D1.csv\",header=None)\r\n",
    "data=pd.read_csv(r\"D:\\Windsor\\Fourth semester\\Applied Machine learning\\Project\\Code_Machine_learning\\DimensionReducedDataSet\\D1_MVU.csv\",header=None)\r\n",
    "#Data preprocessing (Filling missing values and removing empty columns)\r\n",
    "data=data.fillna(0)\r\n",
    "data=data.loc[:,(data!=0).any(axis=0)]\r\n",
    "\r\n",
    "#Finding the shape of the dataframe\r\n",
    "(m,n)=data.shape\r\n",
    "print(data.shape)\r\n",
    "#Separating the data and the labels\r\n",
    "x=data.iloc[:,:-1]\r\n",
    "y=data.iloc[:,-1:]\r\n",
    "print(n)\r\n",
    "print(x.shape)\r\n",
    "\r\n",
    "scaler=StandardScaler()\r\n",
    "x=scaler.fit_transform(x.iloc[:5000,:])"
   ]
  },
  {
   "cell_type": "code",
   "execution_count": 18,
   "metadata": {},
   "outputs": [],
   "source": [
    "parameters = {'kernel':('linear', 'rbf','poly'), 'C':[1, 10,20,100]}\r\n",
    "svc = SVC(gamma='auto')\r\n",
    "clf = GridSearchCV(svc, parameters,cv=5,return_train_score=False)\r\n",
    "clf.fit(x,y.iloc[:5000,:].values\r\n",
    "results=pd.DataFrame(clf.cv_results_)\r\n",
    "print(results)"
   ]
  }
 ],
 "metadata": {
  "interpreter": {
   "hash": "004de6046f1b3d314f33fdb43a2dc798b2646e5600efd8df5066c8b63a00ff6d"
  },
  "kernelspec": {
   "display_name": "Python 3.8.2 64-bit",
   "name": "python3"
  },
  "language_info": {
   "name": "python",
   "version": ""
  },
  "orig_nbformat": 4
 },
 "nbformat": 4,
 "nbformat_minor": 2
}